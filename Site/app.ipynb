{
 "cells": [
  {
   "cell_type": "markdown",
   "metadata": {},
   "source": [
    "### **Simulação do Site de coleta**\n",
    "\n",
    "O código a seguir simula do funcionamento do site de coleta de dados. Por questões de segurança relacionadas as chaves de acesso ao Google Cloud, essa versão foi criada para demonstrar seu funcionamento sem comprometer credenciais sensíveis. Ele mantém a lógica do código original, com as seguintes adaptações:\n",
    "- Todo o código que faz referência ao Google Cloud foi comentado.\n",
    "- O arquivo CSV é salvo localmente na pasta de execução do código.\n",
    "- Para rodar o script, basta instalar as bibliotecas flask e pandas.\n",
    "\n",
    "Após a execução do código, um link será gerado para acesso ao servidor local, semelhante a: http://127.0.0.1:5000\n",
    "Lá podemos interagir e carregar os arquivo, podemos utilizar os próprios arquivos que temos nesse projeto em Arquivos/datacollect.\n",
    "\n",
    "Após o upload, um arquivo CSV será gerado e salvo localmente. \n",
    "Na versão original, esse arquivo seria armazenado no bucket do Cloud Storage."
   ]
  },
  {
   "cell_type": "code",
   "execution_count": 1,
   "metadata": {},
   "outputs": [
    {
     "name": "stdout",
     "output_type": "stream",
     "text": [
      "Requirement already satisfied: flask in c:\\users\\ramom\\appdata\\local\\packages\\pythonsoftwarefoundation.python.3.9_qbz5n2kfra8p0\\localcache\\local-packages\\python39\\site-packages (3.1.0)\n",
      "Requirement already satisfied: Werkzeug>=3.1 in c:\\users\\ramom\\appdata\\local\\packages\\pythonsoftwarefoundation.python.3.9_qbz5n2kfra8p0\\localcache\\local-packages\\python39\\site-packages (from flask) (3.1.3)\n",
      "Requirement already satisfied: Jinja2>=3.1.2 in c:\\users\\ramom\\appdata\\local\\packages\\pythonsoftwarefoundation.python.3.9_qbz5n2kfra8p0\\localcache\\local-packages\\python39\\site-packages (from flask) (3.1.5)\n",
      "Requirement already satisfied: itsdangerous>=2.2 in c:\\users\\ramom\\appdata\\local\\packages\\pythonsoftwarefoundation.python.3.9_qbz5n2kfra8p0\\localcache\\local-packages\\python39\\site-packages (from flask) (2.2.0)\n",
      "Requirement already satisfied: click>=8.1.3 in c:\\users\\ramom\\appdata\\local\\packages\\pythonsoftwarefoundation.python.3.9_qbz5n2kfra8p0\\localcache\\local-packages\\python39\\site-packages (from flask) (8.1.8)\n",
      "Requirement already satisfied: blinker>=1.9 in c:\\users\\ramom\\appdata\\local\\packages\\pythonsoftwarefoundation.python.3.9_qbz5n2kfra8p0\\localcache\\local-packages\\python39\\site-packages (from flask) (1.9.0)\n",
      "Requirement already satisfied: importlib-metadata>=3.6 in c:\\users\\ramom\\appdata\\local\\packages\\pythonsoftwarefoundation.python.3.9_qbz5n2kfra8p0\\localcache\\local-packages\\python39\\site-packages (from flask) (8.6.1)\n",
      "Requirement already satisfied: colorama in c:\\users\\ramom\\appdata\\local\\packages\\pythonsoftwarefoundation.python.3.9_qbz5n2kfra8p0\\localcache\\local-packages\\python39\\site-packages (from click>=8.1.3->flask) (0.4.6)\n",
      "Requirement already satisfied: zipp>=3.20 in c:\\users\\ramom\\appdata\\local\\packages\\pythonsoftwarefoundation.python.3.9_qbz5n2kfra8p0\\localcache\\local-packages\\python39\\site-packages (from importlib-metadata>=3.6->flask) (3.21.0)\n",
      "Requirement already satisfied: MarkupSafe>=2.0 in c:\\users\\ramom\\appdata\\local\\packages\\pythonsoftwarefoundation.python.3.9_qbz5n2kfra8p0\\localcache\\local-packages\\python39\\site-packages (from Jinja2>=3.1.2->flask) (3.0.2)\n",
      "Requirement already satisfied: pandas in c:\\users\\ramom\\appdata\\local\\packages\\pythonsoftwarefoundation.python.3.9_qbz5n2kfra8p0\\localcache\\local-packages\\python39\\site-packages (2.2.3)\n",
      "Requirement already satisfied: numpy>=1.22.4 in c:\\users\\ramom\\appdata\\local\\packages\\pythonsoftwarefoundation.python.3.9_qbz5n2kfra8p0\\localcache\\local-packages\\python39\\site-packages (from pandas) (2.0.2)\n",
      "Requirement already satisfied: python-dateutil>=2.8.2 in c:\\users\\ramom\\appdata\\local\\packages\\pythonsoftwarefoundation.python.3.9_qbz5n2kfra8p0\\localcache\\local-packages\\python39\\site-packages (from pandas) (2.9.0.post0)\n",
      "Requirement already satisfied: pytz>=2020.1 in c:\\users\\ramom\\appdata\\local\\packages\\pythonsoftwarefoundation.python.3.9_qbz5n2kfra8p0\\localcache\\local-packages\\python39\\site-packages (from pandas) (2025.1)\n",
      "Requirement already satisfied: tzdata>=2022.7 in c:\\users\\ramom\\appdata\\local\\packages\\pythonsoftwarefoundation.python.3.9_qbz5n2kfra8p0\\localcache\\local-packages\\python39\\site-packages (from pandas) (2025.1)\n",
      "Requirement already satisfied: six>=1.5 in c:\\users\\ramom\\appdata\\local\\packages\\pythonsoftwarefoundation.python.3.9_qbz5n2kfra8p0\\localcache\\local-packages\\python39\\site-packages (from python-dateutil>=2.8.2->pandas) (1.17.0)\n",
      "Requirement already satisfied: openpyxl in c:\\users\\ramom\\appdata\\local\\packages\\pythonsoftwarefoundation.python.3.9_qbz5n2kfra8p0\\localcache\\local-packages\\python39\\site-packages (3.1.5)\n",
      "Requirement already satisfied: et-xmlfile in c:\\users\\ramom\\appdata\\local\\packages\\pythonsoftwarefoundation.python.3.9_qbz5n2kfra8p0\\localcache\\local-packages\\python39\\site-packages (from openpyxl) (2.0.0)\n"
     ]
    }
   ],
   "source": [
    "!pip install flask\n",
    "!pip install pandas\n",
    "!pip install openpyxl\n"
   ]
  },
  {
   "cell_type": "code",
   "execution_count": null,
   "metadata": {},
   "outputs": [
    {
     "name": "stdout",
     "output_type": "stream",
     "text": [
      " * Serving Flask app '__main__'\n",
      " * Debug mode: on\n"
     ]
    },
    {
     "name": "stderr",
     "output_type": "stream",
     "text": [
      "WARNING: This is a development server. Do not use it in a production deployment. Use a production WSGI server instead.\n",
      " * Running on all addresses (0.0.0.0)\n",
      " * Running on http://127.0.0.1:5000\n",
      " * Running on http://192.168.0.109:5000\n",
      "Press CTRL+C to quit\n",
      "127.0.0.1 - - [04/Apr/2025 08:12:23] \"GET / HTTP/1.1\" 200 -\n",
      "127.0.0.1 - - [04/Apr/2025 08:12:23] \"GET /favicon.ico HTTP/1.1\" 404 -\n",
      "127.0.0.1 - - [04/Apr/2025 08:12:29] \"POST / HTTP/1.1\" 200 -\n"
     ]
    },
    {
     "name": "stdout",
     "output_type": "stream",
     "text": [
      "Arquivo CSV arquivo_template.csv criado com sucesso no bucket datachangecsv!\n",
      "Arquivo CSV salvo com sucesso em: c:\\Users\\ramom\\Desktop\\Pós\\Engenharia de dados\\MVP--Criacao-Pipeline-de-Dados-para-Processamento-e-Analise-de-Sellout-no-GCP\\Site\\arquivo_template.csv\n"
     ]
    },
    {
     "name": "stderr",
     "output_type": "stream",
     "text": [
      "127.0.0.1 - - [04/Apr/2025 08:12:32] \"GET / HTTP/1.1\" 200 -\n"
     ]
    }
   ],
   "source": [
    "from flask import Flask, render_template, request\n",
    "# from google.cloud import storage\n",
    "import os\n",
    "import pandas as pd\n",
    "from io import BytesIO\n",
    "import threading\n",
    "\n",
    "# Definir a variável de ambiente no código\n",
    "# os.environ[\"GOOGLE_APPLICATION_CREDENTIALS\"] = \"elite-mix-451813-f5-e45e608f8659.json\"\n",
    "\n",
    "# Criar o cliente do Cloud Storage\n",
    "# client = storage.Client()\n",
    "\n",
    "app = Flask(__name__)\n",
    "\n",
    "# Configuração do bucket do Google Cloud Storage\n",
    "# BUCKET_NAME = 'datacollect_mvp'\n",
    "\n",
    "# Função para fazer upload do arquivo para o Google Cloud Storage\n",
    "# def upload_to_gcs(file):\n",
    "    # client = storage.Client()\n",
    "    # bucket = client.get_bucket(BUCKET_NAME)\n",
    "\n",
    "    # new_file, new_file_name = convert_xlsx_to_csv(file)\n",
    "    \n",
    "    # Definindo o caminho dentro do bucket (no caso, a \"pasta\" datacolect)\n",
    "    # blob = bucket.blob(f'{new_file_name}')\n",
    "\n",
    "    # blob.upload_from_file(new_file)\n",
    "    # return blob.public_url\n",
    "\n",
    "def convert_xlsx_to_csv(file):\n",
    "        # Usa BytesIO para transformar a string binária em um objeto de arquivo\n",
    "    df = pd.read_excel(file, sheet_name=None, header=None)\n",
    "    \n",
    "    sheet_name = list(df.keys())[0]  # Pega o nome da primeira planilha\n",
    "    df_sheet = df[sheet_name]\n",
    "\n",
    "    # Separar as linhas em duas partes: a primeira linha (informações do distribuidor)\n",
    "    # e a segunda linha (informações das faturas)\n",
    "    distribuidor_info = df_sheet.iloc[1, :5].values.tolist() # Linha 2 (informações do distribuidor)\n",
    "    factura_info = df_sheet.iloc[3:, :10].values.tolist()  # Linha 4 (informações da fatura)\n",
    "    factura_info = [item + [file.filename] for item in factura_info]\n",
    "    # Criar um DataFrame para as informações do distribuidor\n",
    "    distribuidor_df = pd.DataFrame([distribuidor_info], columns=[\"HEADER\",\"DISTRIBUTOR\", \"NAME\", \"TAX\", \"DATA\"])\n",
    "\n",
    "    # Criar um DataFrame para as informações das faturas\n",
    "    factura_df = pd.DataFrame(factura_info, columns=[\"IDENTIFICADOR\",\"NUMERO DE FACTURA\", \n",
    "                                                      \"FECHA DE LA FACTURA\", \n",
    "                                                      \"TAX ID\", \n",
    "                                                      \"TIPO DE FACTURA\", \n",
    "                                                      \"CODIGO DE PRODUCTO\", \n",
    "                                                      \"NUMERO DE LOTE\", \n",
    "                                                      \"CANTIDAD FACTURADA\", \n",
    "                                                      \"UNIDAD DE MEDIDA\", \n",
    "                                                      \"PRECIO UNITARIO\",\n",
    "                                                      \"FILE NAME\"])\n",
    "\n",
    "    # Adicionar as informações do distribuidor em cada linha de fatura\n",
    "    factura_df[\"IDENTIFICADOR\"] = distribuidor_df[\"HEADER\"].iloc[0]\n",
    "    factura_df[\"CODIGO DEL DISTRIBUIDOR\"] = distribuidor_df[\"DISTRIBUTOR\"].iloc[0]\n",
    "    factura_df[\"NOMBRE DEL DISTRIBUIDOR\"] = distribuidor_df[\"NAME\"].iloc[0]\n",
    "    factura_df[\"FECHA DEL ARCHIVO\"] = distribuidor_df[\"DATA\"].iloc[0]\n",
    "    factura_df[\"TAX ID DIST\"] = distribuidor_df[\"TAX\"].iloc[0]\n",
    "\n",
    "    # Nome do arquivo CSV que será salvo no bucket datachangecsv\n",
    "    csv_file_name = file.filename.replace('.xlsx', '.csv')\n",
    "\n",
    "    # Convertendo o DataFrame para CSV no formato de string\n",
    "    csv_data = factura_df.to_csv(index=False, encoding=\"utf-8\")\n",
    "\n",
    "    new_file = BytesIO(csv_data.encode('utf-8'))\n",
    "\n",
    "    print(f'Arquivo CSV {csv_file_name} criado com sucesso no bucket datachangecsv!')\n",
    "\n",
    "    # Incluido para simulação\n",
    "    # Define o caminho de salvamento no diretório padrão (onde o script está rodando)\n",
    "    csv_file_name = file.filename.replace('.xlsx', '.csv')\n",
    "    csv_file_path = os.path.join(os.getcwd(), csv_file_name)  # Obtém o diretório atual\n",
    "\n",
    "    # Salva o DataFrame como CSV no diretório padrão\n",
    "    factura_df.to_csv(csv_file_path, index=False, encoding=\"utf-8\")\n",
    "\n",
    "    print(f'Arquivo CSV salvo com sucesso em: {csv_file_path}')\n",
    "\n",
    "    return new_file, csv_file_name\n",
    "\n",
    "\n",
    "@app.route(\"/\", methods=[\"GET\", \"POST\"])\n",
    "def index():\n",
    "    if request.method == \"POST\":\n",
    "        file = request.files[\"file\"]\n",
    "        if file:\n",
    "            # file_url = upload_to_gcs(file)\n",
    "            file_url = convert_xlsx_to_csv(file)\n",
    "            return render_template(\"confirmado.html\")\n",
    "    return render_template(\"index.html\")\n",
    "\n",
    "# if __name__ == \"__main__\":\n",
    "#     app.run(debug=True)\n",
    "\n",
    "def run_flask():\n",
    "    app.run(debug=True, use_reloader=False, host='0.0.0.0', port=5000)\n",
    "\n",
    "# Rodar o Flask em uma thread separada\n",
    "thread = threading.Thread(target=run_flask)\n",
    "thread.start()"
   ]
  }
 ],
 "metadata": {
  "kernelspec": {
   "display_name": "Python 3",
   "language": "python",
   "name": "python3"
  },
  "language_info": {
   "codemirror_mode": {
    "name": "ipython",
    "version": 3
   },
   "file_extension": ".py",
   "mimetype": "text/x-python",
   "name": "python",
   "nbconvert_exporter": "python",
   "pygments_lexer": "ipython3",
   "version": "3.9.13"
  }
 },
 "nbformat": 4,
 "nbformat_minor": 2
}
